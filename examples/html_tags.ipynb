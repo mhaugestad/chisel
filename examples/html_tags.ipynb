{
 "cells": [
  {
   "cell_type": "code",
   "execution_count": 1,
   "id": "79da4ec0",
   "metadata": {},
   "outputs": [],
   "source": [
    "import requests\n",
    "import zipfile\n",
    "import io\n",
    "import os"
   ]
  },
  {
   "cell_type": "markdown",
   "id": "4e973785",
   "metadata": {},
   "source": [
    "# Download the NCBI dataset"
   ]
  },
  {
   "cell_type": "code",
   "execution_count": 2,
   "id": "45dc8fa1",
   "metadata": {},
   "outputs": [
    {
     "name": "stdout",
     "output_type": "stream",
     "text": [
      "Extracted contents to: /workspaces/chisel/examples/data\n"
     ]
    }
   ],
   "source": [
    "# Step 1: Provide the URL to the zip file\n",
    "url = \"https://www.ncbi.nlm.nih.gov/CBBresearch/Dogan/DISEASE/NCBI_corpus.zip\"\n",
    "\n",
    "# Step 2: Set the extraction destination\n",
    "extract_to = \"/workspaces/chisel/examples/data\"\n",
    "os.makedirs(extract_to, exist_ok=True)\n",
    "\n",
    "# Step 3: Download and extract\n",
    "response = requests.get(url)\n",
    "if response.status_code == 200:\n",
    "    with zipfile.ZipFile(io.BytesIO(response.content)) as zip_ref:\n",
    "        zip_ref.extractall(extract_to)\n",
    "    print(f\"Extracted contents to: {extract_to}\")\n",
    "else:\n",
    "    print(f\"Failed to download file. Status code: {response.status_code}\")"
   ]
  },
  {
   "cell_type": "code",
   "execution_count": 3,
   "id": "8d7ce86b",
   "metadata": {},
   "outputs": [],
   "source": [
    "import sys\n",
    "sys.path.append(\"/workspaces/chisel/\")"
   ]
  },
  {
   "cell_type": "code",
   "execution_count": 4,
   "id": "c3ca8c92",
   "metadata": {},
   "outputs": [],
   "source": [
    "annotations = []\n",
    "with open(\"/workspaces/chisel/examples/data/NCBI_corpus_training.txt\", \"r\") as f:\n",
    "    for line in f.readlines():\n",
    "        splits = line.split(\"\\t\")\n",
    "        annotations.append({\n",
    "            \"id\": splits[0].strip(),\n",
    "            \"text\": \" \".join(splits[1:]).strip()\n",
    "        })"
   ]
  },
  {
   "cell_type": "code",
   "execution_count": 5,
   "id": "57acd3f7",
   "metadata": {},
   "outputs": [],
   "source": [
    "from typing import List\n",
    "from chisel.extraction.base.protocols import Parser, Tokenizer, TokenChunker, Labeler, LabelEncoder, Validator, Exporter"
   ]
  },
  {
   "cell_type": "code",
   "execution_count": 6,
   "id": "d17b1098",
   "metadata": {},
   "outputs": [
    {
     "name": "stderr",
     "output_type": "stream",
     "text": [
      "/home/vscode/.local/lib/python3.11/site-packages/tqdm/auto.py:21: TqdmWarning: IProgress not found. Please update jupyter and ipywidgets. See https://ipywidgets.readthedocs.io/en/stable/user_install.html\n",
      "  from .autonotebook import tqdm as notebook_tqdm\n",
      "None of PyTorch, TensorFlow >= 2.0, or Flax have been found. Models won't be available and only tokenizers, configuration and file/data utilities can be used.\n"
     ]
    }
   ],
   "source": [
    "from chisel.extraction.parsers.html_tag_parser import HTMLTagParser\n",
    "from chisel.extraction.tokenizers.hf_tokenizer import HFTokenizer\n",
    "from chisel.extraction.chunkers.fixed_length_chunker import FixedLengthChunker\n",
    "from chisel.extraction.labelers.bio_labeler import BIOLabeler\n",
    "from chisel.extraction.labelers.simple_label_encoder import SimpleLabelEncoder\n",
    "from chisel.extraction.validators.span_in_text_validator import SpanInTextValidator\n",
    "from chisel.extraction.validators.span_text_match_validator import SpanTextMatchValidator\n",
    "from chisel.extraction.validators.bio_alignment_validator import BIOAlignmentValidator\n",
    "from chisel.extraction.exporters.json_exporter import JSONExporter"
   ]
  },
  {
   "cell_type": "code",
   "execution_count": 10,
   "id": "9b0818ef",
   "metadata": {},
   "outputs": [],
   "source": [
    "parser = HTMLTagParser(label_strategy=\"attribute\")\n",
    "tokenizer = HFTokenizer(model_name=\"bert-base-cased\")\n",
    "chunker = FixedLengthChunker(max_tokens=100, overlap=0)\n",
    "labeler = BIOLabeler()\n",
    "label_encoder = SimpleLabelEncoder()\n",
    "validators = [\n",
    "    v1 := SpanInTextValidator(),\n",
    "    v2 := SpanTextMatchValidator(),\n",
    "    v3 := BIOAlignmentValidator()\n",
    "]\n",
    "exporter = JSONExporter(output_path=\"/workspaces/chisel/examples/data/annotations.json\")"
   ]
  },
  {
   "cell_type": "code",
   "execution_count": null,
   "id": "b6aedcfa",
   "metadata": {},
   "outputs": [],
   "source": [
    "class NCBIPipeline:\n",
    "    def __init__(self, \n",
    "                 annotations, \n",
    "                 parser: Parser, \n",
    "                 tokenizer: Tokenizer, \n",
    "                 chunker: TokenChunker, \n",
    "                 labeler: Labeler, \n",
    "                 label_encoder: LabelEncoder, \n",
    "                 validators: List[Validator], \n",
    "                 exporter: Exporter):\n",
    "        self.annotations = annotations\n",
    "        self.parser = parser\n",
    "        self.tokenizer = tokenizer\n",
    "        self.chunker = chunker\n",
    "        self.labeler = labeler\n",
    "        self.label_encoder = label_encoder\n",
    "        self.validators = validators\n",
    "        self.exporter = exporter\n",
    "\n",
    "    def run(self):\n",
    "        processed_data = []\n",
    "        for annotation in self.annotations:\n",
    "            text, entities = parser.parse(annotation[\"text\"])\n",
    "            tokens = tokenizer.tokenize(text)\n",
    "            chunks = chunker.chunk(tokens, entities)\n",
    "\n",
    "            labels = []\n",
    "            for chunk in chunks:\n",
    "                labels.append(labeler.label(chunk[\"tokens\"], chunk[\"entities\"]))\n",
    "\n",
    "            label_encoder.fit(labels)\n",
    "\n",
    "            encoded_labels = []\n",
    "            for label in labels:\n",
    "                encoded_labels.append(label_encoder.encode(label))\n",
    "\n",
    "            for i, (chunk, encoded_label, label) in enumerate(zip(chunks, encoded_labels, labels)):\n",
    "                for validator in validators:\n",
    "                     validator.validate(text, chunk[\"tokens\"], chunk[\"entities\"], label)\n",
    "            \n",
    "                processed_data.append({\n",
    "                    \"id\": annotation[\"id\"],\n",
    "                    \"chunk_id\": i,\n",
    "                    \"text\": text,\n",
    "                    \"input_ids\": [token.id for token in tokens],\n",
    "                    \"attention_mask\": [1] * len(tokens),  # Assuming all tokens are valid\n",
    "                    \"tokens\": [token.text for token in tokens],\n",
    "                    \"bio-labels\": label,\n",
    "                    \"labels\": encoded_label\n",
    "                })\n",
    "        \n",
    "        self.exporter.export(processed_data)"
   ]
  },
  {
   "cell_type": "code",
   "execution_count": 17,
   "id": "1758642f",
   "metadata": {},
   "outputs": [],
   "source": [
    "pipeline = NCBIPipeline(\n",
    "    annotations=annotations[0:10],\n",
    "    parser=parser,\n",
    "    tokenizer=tokenizer,\n",
    "    chunker=chunker,\n",
    "    labeler=labeler,\n",
    "    label_encoder=label_encoder,\n",
    "    validators=validators,\n",
    "    exporter=exporter\n",
    ")\n",
    "pipeline.run()"
   ]
  }
 ],
 "metadata": {
  "kernelspec": {
   "display_name": "Python 3",
   "language": "python",
   "name": "python3"
  },
  "language_info": {
   "codemirror_mode": {
    "name": "ipython",
    "version": 3
   },
   "file_extension": ".py",
   "mimetype": "text/x-python",
   "name": "python",
   "nbconvert_exporter": "python",
   "pygments_lexer": "ipython3",
   "version": "3.11.2"
  }
 },
 "nbformat": 4,
 "nbformat_minor": 5
}
