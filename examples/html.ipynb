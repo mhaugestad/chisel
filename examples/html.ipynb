{
 "cells": [
  {
   "cell_type": "code",
   "execution_count": 1,
   "id": "0bb156f2",
   "metadata": {},
   "outputs": [],
   "source": [
    "import sys\n",
    "sys.path.append(\"/workspaces/chisel/\")"
   ]
  },
  {
   "cell_type": "markdown",
   "id": "5783042a",
   "metadata": {},
   "source": [
    "# 🧪 Example: Processing the NCBI Disease Dataset with Chisel\n",
    "This example demonstrates how to preprocess the [NCBI Disease Corpus](https://www.ncbi.nlm.nih.gov/CBBresearch/Dogan/DISEASE/) using the Chisel library, transforming the data into a format suitable for transformer-based token classification models."
   ]
  },
  {
   "cell_type": "markdown",
   "id": "f974e1c7",
   "metadata": {},
   "source": [
    "## 📥 Step 1: Download the NCBI Dataset"
   ]
  },
  {
   "cell_type": "markdown",
   "id": "f9c6d46a",
   "metadata": {},
   "source": [
    "The NCBI corpus uses inline HTML-like tags to annotate disease mentions. Annotations look like:\n",
    "\n",
    "\n",
    "```\n",
    "<category=\"SpecificDisease\">Cancer</category>\n",
    "```\n",
    "\n",
    "To work with this format, we ensure it is valid XML by renaming attributes to:\n",
    "\n",
    "```\n",
    "<category category=\"SpecificDisease\">Cancer</category>\n",
    "```"
   ]
  },
  {
   "cell_type": "markdown",
   "id": "9c4d6ef8",
   "metadata": {},
   "source": [
    "## ✅ Download and extract the dataset"
   ]
  },
  {
   "cell_type": "code",
   "execution_count": 2,
   "id": "27752602",
   "metadata": {},
   "outputs": [
    {
     "name": "stdout",
     "output_type": "stream",
     "text": [
      "Extracted contents to: ./data\n"
     ]
    }
   ],
   "source": [
    "import requests\n",
    "import zipfile\n",
    "import io\n",
    "import os\n",
    "\n",
    "# Step 1: Provide the URL to the zip file\n",
    "url = \"https://www.ncbi.nlm.nih.gov/CBBresearch/Dogan/DISEASE/NCBI_corpus.zip\"\n",
    "\n",
    "# Step 2: Set the extraction destination\n",
    "extract_to = \"./data\"\n",
    "os.makedirs(extract_to, exist_ok=True)\n",
    "\n",
    "# Step 3: Download and extract\n",
    "response = requests.get(url)\n",
    "if response.status_code == 200:\n",
    "    with zipfile.ZipFile(io.BytesIO(response.content)) as zip_ref:\n",
    "        zip_ref.extractall(extract_to)\n",
    "    print(f\"Extracted contents to: {extract_to}\")\n",
    "else:\n",
    "    print(f\"Failed to download file. Status code: {response.status_code}\")"
   ]
  },
  {
   "cell_type": "markdown",
   "id": "cbcd8877",
   "metadata": {},
   "source": [
    "## 📄 Step 2: Load and Clean the Data"
   ]
  },
  {
   "cell_type": "code",
   "execution_count": 2,
   "id": "c263c18b",
   "metadata": {},
   "outputs": [],
   "source": [
    "annotations = []\n",
    "with open(\"/workspaces/chisel/examples/data/NCBI_corpus_training.txt\", \"r\") as f:\n",
    "    for line in f.readlines():\n",
    "        splits = line.split(\"\\t\")\n",
    "        annotations.append({\n",
    "            \"id\": splits[0].strip(),\n",
    "            \"text\": \" \".join(splits[1:]).strip().replace('<category=\"', '<category category=\"') # Ensure correct XML format\n",
    "        })"
   ]
  },
  {
   "cell_type": "markdown",
   "id": "28a8812b",
   "metadata": {},
   "source": [
    "## 🧱 Step 3: Preprocess with Chisel\n",
    "We define and connect the pipeline components from Chisel."
   ]
  },
  {
   "cell_type": "markdown",
   "id": "78ebfca1",
   "metadata": {},
   "source": [
    "### 🔧 Setup"
   ]
  },
  {
   "cell_type": "code",
   "execution_count": 3,
   "id": "64396e2a",
   "metadata": {},
   "outputs": [
    {
     "name": "stderr",
     "output_type": "stream",
     "text": [
      "/home/vscode/.local/lib/python3.11/site-packages/tqdm/auto.py:21: TqdmWarning: IProgress not found. Please update jupyter and ipywidgets. See https://ipywidgets.readthedocs.io/en/stable/user_install.html\n",
      "  from .autonotebook import tqdm as notebook_tqdm\n"
     ]
    }
   ],
   "source": [
    "# 📦 Imports\n",
    "from transformers import AutoTokenizer\n",
    "from chisel.extraction.parsers.html_tag_parser import HTMLTagParser\n",
    "from chisel.extraction.tokenizers.hf_tokenizer import HFTokenizer\n",
    "from chisel.extraction.chunkers.fixed_length_chunker import FixedLengthTokenChunker\n",
    "from chisel.extraction.span_aligners.token_span_aligner import TokenSpanAligner\n",
    "from chisel.extraction.labelers.bio_labeler import BIOLabeler\n",
    "from chisel.extraction.labelers.label_encoder import SimpleLabelEncoder\n",
    "from chisel.extraction.validators.validators import DefaultParseValidator, HFTokenAlignmentValidator\n",
    "from chisel.extraction.formatters.torch_formatter import TorchDatasetFormatter\n",
    "from chisel.extraction.models.models import ChiselRecord\n",
    "from chisel.extraction.models.models import EntitySpan\n",
    "from typing import List"
   ]
  },
  {
   "cell_type": "markdown",
   "id": "a9687dc6",
   "metadata": {},
   "source": [
    "## 🔧 Step 3: Initialize Chisel Components"
   ]
  },
  {
   "cell_type": "code",
   "execution_count": 8,
   "id": "9e48d942",
   "metadata": {},
   "outputs": [],
   "source": [
    "# 🔍 Components\n",
    "parser = HTMLTagParser(label_strategy=\"attribute\", attribute_name=\"category\")\n",
    "tokenizer = HFTokenizer(model_name=\"bert-base-cased\")\n",
    "aligner = TokenSpanAligner()\n",
    "chunker = FixedLengthTokenChunker(max_tokens=512, overlap=0)\n",
    "labeler = BIOLabeler()\n",
    "label_encoder = SimpleLabelEncoder(label_to_id={\n",
    " 'O': 0,\n",
    " 'B-Modifier': 1,\n",
    " 'I-Modifier': 2,\n",
    " 'B-SpecificDisease': 3,\n",
    " 'I-SpecificDisease': 4,\n",
    " 'B-CompositeMention': 5,\n",
    " 'I-CompositeMention': 6,\n",
    " 'B-DiseaseClass': 7,\n",
    " 'I-DiseaseClass': 8,\n",
    "})\n",
    "\n",
    "parse_validators = [DefaultParseValidator(on_error=\"raise\")]\n",
    "label_validators = [HFTokenAlignmentValidator(tokenizer=tokenizer.tokenizer, on_error=\"raise\")]\n",
    "formatter = TorchDatasetFormatter()"
   ]
  },
  {
   "cell_type": "markdown",
   "id": "6420b48b",
   "metadata": {},
   "source": [
    "### 🔄 Step 4: Run the Pipeline"
   ]
  },
  {
   "cell_type": "code",
   "execution_count": 9,
   "id": "1393f674",
   "metadata": {},
   "outputs": [
    {
     "name": "stderr",
     "output_type": "stream",
     "text": [
      "Token indices sequence length is longer than the specified maximum sequence length for this model (570 > 512). Running this sequence through the model will result in indexing errors\n"
     ]
    },
    {
     "name": "stdout",
     "output_type": "stream",
     "text": [
      "Validation error: Token span and entity span mismatch:\n",
      "  Decoded actual: 'autosomal dominant'\n",
      "  Decoded expected: 'autosomal dominant disorde'\n",
      "Validation error: Token span and entity span mismatch:\n",
      "  Decoded actual: 'absence of the seventh component of'\n",
      "  Decoded expected: 'absence of the seventh component of complemen'\n"
     ]
    }
   ],
   "source": [
    "processed_data = []\n",
    "\n",
    "# 🔁 Pipeline loop\n",
    "for example in annotations:\n",
    "    text, entities = parser.parse(example[\"text\"])\n",
    "    \n",
    "    # 🧪 Per-span validation — skip bad spans\n",
    "    valid_spans = []\n",
    "    for span in entities:\n",
    "        try:\n",
    "            for validator in parse_validators:\n",
    "                validator.validate(text, span)\n",
    "            valid_spans.append(span)\n",
    "        except ValueError:\n",
    "            continue \n",
    "\n",
    "    tokens = tokenizer.tokenize(text)\n",
    "    token_entity_spans = aligner.align(entities, tokens)\n",
    "\n",
    "    token_chunks, entity_chunks = chunker.chunk(tokens, token_entity_spans)\n",
    "\n",
    "    for chunk_id, (toks, ents) in enumerate(zip(token_chunks, entity_chunks)):\n",
    "\n",
    "        labels = labeler.label(toks, ents)\n",
    "        encoded_labels = label_encoder.encode(labels)\n",
    "\n",
    "        # 🧪 Per-span validation — skip bad spans\n",
    "        valid_token_spans = []\n",
    "        for span in token_entity_spans:\n",
    "            try:\n",
    "                for validator in label_validators:\n",
    "                    validator.validate(tokens, span)\n",
    "                valid_token_spans.append(span)\n",
    "            except ValueError as e:\n",
    "                print(f\"Validation error: {e}\")  # Log the error for debugging\n",
    "                continue  # Optionally log or collect stats on dropped spans\n",
    "\n",
    "        record = ChiselRecord(\n",
    "                id=example[\"id\"],\n",
    "                chunk_id=chunk_id,\n",
    "                text=tokenizer.tokenizer.decode([token.id for token in toks]),\n",
    "                tokens=toks,\n",
    "                input_ids=[token.id for token in toks],\n",
    "                attention_mask=[1] * len(toks),\n",
    "                entities=[tes.entity for tes in valid_token_spans],\n",
    "                bio_labels=labels,\n",
    "                labels=encoded_labels\n",
    "            )\n",
    "        processed_data.append(record)\n",
    "\n",
    "data = formatter.format(processed_data)"
   ]
  },
  {
   "cell_type": "markdown",
   "id": "0fadf6fe",
   "metadata": {},
   "source": [
    "### ✅ Output\n",
    "You now have a torch dataset ready for modelling!"
   ]
  },
  {
   "cell_type": "code",
   "execution_count": 8,
   "id": "3857d9fc",
   "metadata": {},
   "outputs": [
    {
     "data": {
      "text/plain": [
       "dict_keys(['input_ids', 'attention_mask', 'labels'])"
      ]
     },
     "execution_count": 8,
     "metadata": {},
     "output_type": "execute_result"
    }
   ],
   "source": [
    "data[0].keys()"
   ]
  },
  {
   "cell_type": "code",
   "execution_count": 14,
   "id": "b101ef0a",
   "metadata": {},
   "outputs": [
    {
     "name": "stdout",
     "output_type": "stream",
     "text": [
      "(138): 1, 0\n",
      "(1887): 1, 0\n",
      "(10978): 1, 0\n",
      "(3048): 1, 0\n",
      "(1477): 1, 0\n",
      "(17895): 1, 0\n",
      "(1107): 1, 0\n",
      "(1483): 1, 0\n",
      "(1105): 1, 0\n",
      "(1456): 1, 0\n",
      "(1237): 1, 0\n",
      "(145): 1, 1\n",
      "(14576): 1, 2\n",
      "(12096): 1, 2\n",
      "(2073): 1, 0\n",
      "(131): 1, 0\n",
      "(4247): 1, 0\n",
      "(117): 1, 0\n",
      "(185): 1, 0\n",
      "(10436): 1, 0\n"
     ]
    }
   ],
   "source": [
    "for idx, mask, label in zip(\n",
    "    data[1][\"input_ids\"][0:20], \n",
    "    data[1][\"attention_mask\"][0:20], \n",
    "    data[1][\"labels\"][0:20]\n",
    "):\n",
    "    print(f\"({idx}): {mask}, {label}\")"
   ]
  }
 ],
 "metadata": {
  "kernelspec": {
   "display_name": "Python 3",
   "language": "python",
   "name": "python3"
  },
  "language_info": {
   "codemirror_mode": {
    "name": "ipython",
    "version": 3
   },
   "file_extension": ".py",
   "mimetype": "text/x-python",
   "name": "python",
   "nbconvert_exporter": "python",
   "pygments_lexer": "ipython3",
   "version": "3.11.2"
  }
 },
 "nbformat": 4,
 "nbformat_minor": 5
}
